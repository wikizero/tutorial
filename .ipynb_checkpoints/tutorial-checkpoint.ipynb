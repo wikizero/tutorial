{
 "cells": [
  {
   "cell_type": "markdown",
   "metadata": {},
   "source": [
    "### 人生苦短 我用Python  \n",
    "\n",
    "### Python3.6\n",
    "\n",
    "1. 数据类型  （字符串、数字、列表、字典、元组、集合）\n",
    "2. 控制结构 （if-else、while、for-else） \n",
    "3. 异常处理  (try-except-else)\n",
    "4. 高阶函数 （map、filter、reduce、zip）\n",
    "5. 列表推导式、字典推导式、集合推导式、生成器\n",
    "6. 函数、类\n",
    "7. 装饰器、生成器\n",
    "8. 常用模块 \n",
    "9. 常用第三方库  requests、pandas、selenium\n",
    "\n",
    "###### 基础 \n",
    "###### 特性、小技巧\n",
    "\n",
    "[菜鸟教程-Python3教程](http://www.runoob.com/python3/python3-tutorial.html)\n",
    "\n",
    "[廖雪峰Python3教程](https://www.liaoxuefeng.com/wiki/0014316089557264a6b348958f449949df42a6d3a2e542c000)\n",
    " \n",
    "[Python cookbook 第三版（Python3）](https://python3-cookbook.readthedocs.io/zh_CN/latest/)\n"
   ]
  },
  {
   "cell_type": "code",
   "execution_count": 5,
   "metadata": {},
   "outputs": [],
   "source": [
    "# Python3.6\n",
    "\n",
    "%matplotlib inline\n",
    "'''\n",
    "1、数据类型  （字符串、数字、列表、字典、元组、集合）\n",
    "2、控制结构 （if-else、while、for-else） \n",
    "3、异常处理  (try-except-else)\n",
    "4、高阶函数 （map、filter、reduce、zip）\n",
    "5、列表推导式、字典推导式、集合推导式、生成器\n",
    "6、函数、类\n",
    "7、装饰器、生成器\n",
    "8、常用模块 \n",
    "9、常用第三方库  requests、pandas、selenium\n",
    "'''\n",
    "\n",
    "'''\n",
    " 廖雪峰Python3教程\n",
    " https://www.liaoxuefeng.com/wiki/0014316089557264a6b348958f449949df42a6d3a2e542c000\n",
    " \n",
    " Python cookbook 第三版（Python3）\n",
    " https://python3-cookbook.readthedocs.io/zh_CN/latest/\n",
    "'''"
   ]
  },
  {
   "cell_type": "markdown",
   "metadata": {},
   "source": [
    "#### 1、数据类型  （字符串、数字、列表、字典、元组、集合）"
   ]
  },
  {
   "cell_type": "code",
   "execution_count": 61,
   "metadata": {},
   "outputs": [
    {
     "data": {
      "text/plain": [
       "0"
      ]
     },
     "execution_count": 61,
     "metadata": {},
     "output_type": "execute_result"
    }
   ],
   "source": [
    "name = 'Tom'  \n",
    "# 字符串连接、倒序、替换、截取 各类型转换\n",
    "# fstring\n",
    "\n",
    "num_int = 10\n",
    "num_float = 10.9  \n",
    "\n",
    "\n",
    "lst = [1, 2, 3, 4]  \n",
    "# 列表跟数组区别， 可以存储任意类型，可以任意修改\n",
    "# 列表字符串切片， 解压缩\n",
    "# deque 双端队列  https://www.cnblogs.com/zhenwei66/p/6598996.html\n",
    "\n",
    "tup = (1, 2, 3, 5)\n",
    "# 元组\n",
    "\n",
    "dct = {'name': 'Alice', 'age': 20}  \n",
    "#  快速字典json转换 \n",
    "# {}.fromkeys(['a', 'b', 'c'], range(3))\n",
    "\n",
    "my_set = {10, 20, 3}  \n",
    "# 集合取并集、交集、子集、差集...\n",
    "\n",
    "p = (i for i in range(10))\n",
    "next(p)"
   ]
  },
  {
   "cell_type": "code",
   "execution_count": 62,
   "metadata": {},
   "outputs": [
    {
     "name": "stdout",
     "output_type": "stream",
     "text": [
      "1\n",
      "2\n",
      "3\n",
      "4\n",
      "5\n",
      "6\n",
      "7\n",
      "8\n",
      "9\n"
     ]
    }
   ],
   "source": []
  },
  {
   "cell_type": "code",
   "execution_count": 57,
   "metadata": {},
   "outputs": [],
   "source": [
    "# if 空 None  {}  [] ()  False \n",
    "# in   not in   \n",
    "# 对Python的理解\n",
    "# for-else\n",
    "# try-except-else\n",
    "# with open(x) as fp, open(y) as fp2 \n",
    "#（map、filter、reduce、zip）\n",
    "# 列表推导式、字典推导式、集合推导式、生成器(1)\n",
    "# 装饰器、生成器(2)\n",
    "# 好用的内建函数\n",
    "# 好用的第三方模块 pandas requests\n",
    "# 小🌰"
   ]
  },
  {
   "cell_type": "code",
   "execution_count": null,
   "metadata": {},
   "outputs": [],
   "source": [
    "'''\n",
    "爬虫 获取数据  存入mysql  excel csv json文件  读取mysql 展示\n",
    "读取Excel 获取接口  发请求 判断异常，获取json数据\n",
    "数据分析、姓氏分布、词频统计、每天发言数量\n",
    "'''\n",
    "\n"
   ]
  },
  {
   "cell_type": "code",
   "execution_count": 68,
   "metadata": {},
   "outputs": [],
   "source": [
    "import requests\n",
    "import pandas as pd\n",
    "\n",
    "url = 'https://www.feixiaohao.com/'\n",
    "response = requests.get(url)\n",
    "# df = pd.read_html(response.text)\n",
    "\n",
    "# df.to_sql()\n"
   ]
  },
  {
   "cell_type": "code",
   "execution_count": 80,
   "metadata": {},
   "outputs": [
    {
     "name": "stdout",
     "output_type": "stream",
     "text": [
      "# tutorial\r\n"
     ]
    }
   ],
   "source": [
    "!cat README.md | head  -n 1"
   ]
  },
  {
   "cell_type": "code",
   "execution_count": null,
   "metadata": {},
   "outputs": [],
   "source": [
    "# 不要畏惧英文 Google、stackoverflow、github\n",
    "# 学会看源码，读别人的项目代码\n",
    "# 学习是细水长流、每天进步一丢丢  早日成为Pythoner\n",
    "# Python aweseomePython Python为啥这么强大 介绍下"
   ]
  },
  {
   "cell_type": "code",
   "execution_count": null,
   "metadata": {},
   "outputs": [],
   "source": [
    "# max、min妙用\n",
    "lst = ['abc', 'za', 'xyzd']\n",
    "# 获取lst中最长字符串\n",
    "max(lst, key=len)\n",
    "\n",
    "reduce(lambda x,y: x^y, [1,2,3,4,1,2,3])\n",
    "\n",
    "# 三元表达式\n",
    "x = x if x > 0 else 0\n",
    "\n",
    "# 利用max()函数\n",
    "x = max(x, 0)\n",
    "\n",
    "# 应用小例子\n",
    "if x > 100:\n",
    "  x = 100\n",
    "if x < 0:\n",
    "  x = 0\n",
    "# 转换成min()、max()函数\n",
    "max(min(x, 100), 0)\n",
    "\n",
    "数学很重要\n",
    "正则很强大，学会性价比很高\n"
   ]
  },
  {
   "cell_type": "markdown",
   "metadata": {},
   "source": [
    "1. Python语法简单，容易理解，容易学习\n",
    "2. 跨平台，可在windows、Linux、mac等系统上运行\n",
    "3. 应用领域广泛，可以做自动化测试、运维、网站后台、爬虫、数据分析、人工智能等等\n",
    "4. 拥有强大、丰富的第三方库 "
   ]
  },
  {
   "cell_type": "code",
   "execution_count": 24,
   "metadata": {},
   "outputs": [
    {
     "name": "stdout",
     "output_type": "stream",
     "text": [
      "Hello, Python!\n"
     ]
    }
   ],
   "source": [
    "# hello world\n",
    "print (\"Hello, Python!\")\n",
    "# 结束可以不需要分号, 因为回车与分号都可以做结束符\n",
    "# print (\"Hello, Python!\");print (\"Hello, Python!\")\n",
    "# 注释采用\"#\"  "
   ]
  },
  {
   "cell_type": "code",
   "execution_count": 27,
   "metadata": {},
   "outputs": [
    {
     "name": "stdout",
     "output_type": "stream",
     "text": [
      "False\n",
      "False\n"
     ]
    }
   ],
   "source": [
    "# 使用缩进来表示代码块，不需要使用大括号 {} ；\n",
    "# 缩进的空格数是可变的，但是同一个代码块的语句必须包含相同的缩进空格数。\n",
    "if True:\n",
    "    print ('True')\n",
    "else:\n",
    "    print ('False')\n",
    "    print ('False')\n"
   ]
  },
  {
   "cell_type": "code",
   "execution_count": 13,
   "metadata": {},
   "outputs": [],
   "source": [
    "# 动态类型的脚本语言，声明变量不需要指定类型，甚至使用变量不需要提前声明\n",
    "name = 'Tom'\n",
    "age = 20\n",
    "height = 170.8\n",
    "\n",
    "name = 10801"
   ]
  },
  {
   "cell_type": "code",
   "execution_count": 89,
   "metadata": {},
   "outputs": [],
   "source": [
    "lst = [1, 2, 3, 4]  \n",
    "# 列表跟数组区别， 可以存储任意类型，可以任意修改\n",
    "# 列表相加 extend\n",
    "# 列表字符串切片， 解压缩\n",
    "# deque 双端队列  https://www.cnblogs.com/zhenwei66/p/6598996.html\n",
    "\n",
    "tup = (1, 2, 3, 5)\n",
    "# 元组 看作是不可变的列表\n",
    "\n",
    "dct = {'name': 'Alice', 'age': 20}  \n",
    "#  键值对\n",
    "\n",
    "\n",
    "my_set = {10, 20, 3}  \n",
    "# 集合取并集、交集、子集、差集..."
   ]
  },
  {
   "cell_type": "code",
   "execution_count": 93,
   "metadata": {},
   "outputs": [
    {
     "data": {
      "text/plain": [
       "'o'"
      ]
     },
     "execution_count": 93,
     "metadata": {},
     "output_type": "execute_result"
    }
   ],
   "source": [
    "# 负索引\n",
    "name[-1]\n"
   ]
  },
  {
   "cell_type": "code",
   "execution_count": 108,
   "metadata": {},
   "outputs": [
    {
     "data": {
      "text/plain": [
       "'ddccbbaa'"
      ]
     },
     "execution_count": 108,
     "metadata": {},
     "output_type": "execute_result"
    }
   ],
   "source": [
    "# 切片\n",
    "# lst[start : end : step]\n",
    "\n",
    "# list(range(10))\n",
    "# ?range\n",
    "# list(range(1, 11))\n",
    "# list(range(1, 11, 2))\n",
    "\n",
    "lst = list(range(1, 11))\n",
    "# [1, 2, 3, 4, 5, 6, 7, 8, 9, 10]\n",
    "# lst[3:6]\n",
    "# lst[::2]\n",
    "\n",
    "# 'aabbccdd'[::2]\n",
    "# 'aabbccdd'[::-1]\n"
   ]
  },
  {
   "cell_type": "code",
   "execution_count": 62,
   "metadata": {},
   "outputs": [
    {
     "name": "stdout",
     "output_type": "stream",
     "text": [
      "A\n",
      "B\n",
      "C\n",
      "D\n",
      "E\n",
      "F\n",
      "G\n",
      "1: A\n",
      "2: B\n",
      "3: C\n",
      "4: D\n",
      "5: E\n",
      "6: F\n",
      "7: G\n"
     ]
    },
    {
     "data": {
      "text/plain": [
       "{1: 'A', 2: 'B', 3: 'C', 4: 'D', 5: 'E', 6: 'F', 7: 'G'}"
      ]
     },
     "execution_count": 62,
     "metadata": {},
     "output_type": "execute_result"
    }
   ],
   "source": [
    "# for 遍历列表、字典、字符串等可迭代对象\n",
    "\n",
    "_str = 'ABCDEFG'\n",
    "\n",
    "for i in _str:\n",
    "    print(i)\n",
    "\n",
    "for idx, val in enumerate(_str, 1):\n",
    "    print(f\"{idx}: {val}\")\n"
   ]
  },
  {
   "cell_type": "code",
   "execution_count": 125,
   "metadata": {},
   "outputs": [
    {
     "data": {
      "text/plain": [
       "['装饰器、迭代器、生成器.html', '上下文管理器-with.html', 'collections.html']"
      ]
     },
     "execution_count": 125,
     "metadata": {},
     "output_type": "execute_result"
    }
   ],
   "source": [
    "# 列表推导式\n",
    "import os\n",
    "\n",
    "lst = os.listdir(os.getcwd())\n",
    "\n",
    "# ret = []\n",
    "# for item in lst:\n",
    "#     ret.append(item.split('.')[-1])\n",
    "# set(ret)\n",
    "\n",
    "# set([item.split('.')[-1] for item in lst])\n",
    "\n",
    "# ret = []\n",
    "# for item in lst:\n",
    "#     if item.endswith('.html'):\n",
    "#         ret.append(item)\n",
    "# ret\n",
    "\n",
    "# [item for item in lst if item.endswith('.html')]"
   ]
  },
  {
   "cell_type": "code",
   "execution_count": 132,
   "metadata": {},
   "outputs": [
    {
     "data": {
      "text/plain": [
       "{19: 'AGE', 'Tom': 'NAME', 'movie': 'HOBBY'}"
      ]
     },
     "execution_count": 132,
     "metadata": {},
     "output_type": "execute_result"
    }
   ],
   "source": [
    "# 字典推导式\n",
    "dct = {\n",
    "    'NAME': 'Tom',\n",
    "    'AGE': 19,\n",
    "    'HOBBY': 'movie'\n",
    "}\n",
    "\n",
    "# new_dct = {}\n",
    "# for k, v in dct.items():\n",
    "#     new_dct[k.lower()] = v\n",
    "# new_dct\n",
    "\n",
    "{k.lower():v for k, v in dct.items()}\n",
    "# {k.lower():v for k, v in dct.items() if k != 'AGE'}\n",
    "\n",
    "# {v:k for k, v in dct.items()}"
   ]
  },
  {
   "cell_type": "code",
   "execution_count": 46,
   "metadata": {},
   "outputs": [
    {
     "name": "stdout",
     "output_type": "stream",
     "text": [
      "True\n"
     ]
    }
   ],
   "source": [
    "# if判断 -> None、{} 、[]、()、\"\"、0 == False \n",
    "\n",
    "'''\n",
    "if condition:\n",
    "    ...\n",
    "elif:\n",
    "    ...\n",
    "else:\n",
    "    ...\n",
    "'''\n",
    "cond = None\n",
    "\n",
    "# 0 or {} or None or () or '' or []\n",
    "if cond != None:\n",
    "    print(\"True\")\n",
    "else:\n",
    "    print(\"False\")\n",
    "    "
   ]
  },
  {
   "cell_type": "code",
   "execution_count": 55,
   "metadata": {},
   "outputs": [
    {
     "name": "stdout",
     "output_type": "stream",
     "text": [
      "yes\n"
     ]
    }
   ],
   "source": [
    "# in / not in\n",
    "# 判断某个字符串在另外一个字符串中\n",
    "# 判断一个元素是否在列表中 （扩展列表是否在另外一个列表中）\n",
    "# 判断字典中是否包含某个键\n",
    "'''\n",
    "['18','years', 'old']\n",
    "{\n",
    "    'name': 'Tom',\n",
    "    'age': 19\n",
    "}\n",
    "'''\n",
    "if 'name' in 'names':\n",
    "    print('yes')\n",
    "else:\n",
    "    print('no')"
   ]
  },
  {
   "cell_type": "code",
   "execution_count": null,
   "metadata": {},
   "outputs": [],
   "source": [
    "# 函数定义\n",
    "def MyFunc():\n",
    "    pass\n",
    "\n",
    "def MyFunc(name, age):\n",
    "    pass\n",
    "\n",
    "def MyFunc(*args, **kwargs):\n",
    "    pass"
   ]
  },
  {
   "cell_type": "code",
   "execution_count": 31,
   "metadata": {},
   "outputs": [
    {
     "name": "stdout",
     "output_type": "stream",
     "text": [
      "hello, Tom! you are 20 years old\n",
      "hello, Tom! you are 20 years old\n",
      "hello, Tom! you are 20 years old\n"
     ]
    }
   ],
   "source": [
    "# 特性一 f-string\n",
    "name = 'Tom'\n",
    "age = 20\n",
    "print('hello, %s! you are %s years old'%(name, age))  # %-formatting  \n",
    "print('hello, {_name}! you are {_age} years old'.format(_name=name, _age=age))  # str.format() \n",
    "\n",
    "print(f'hello, {name}! you are {age} years old')  # f-string "
   ]
  },
  {
   "cell_type": "code",
   "execution_count": 74,
   "metadata": {},
   "outputs": [
    {
     "data": {
      "text/plain": [
       "'log'"
      ]
     },
     "execution_count": 74,
     "metadata": {},
     "output_type": "execute_result"
    }
   ],
   "source": [
    "# unpacking-1\n",
    "lst = ('Tom', 18, ['movie','music'])\n",
    "name, age, hobby = lst\n",
    "hobby\n",
    "\n",
    "\n",
    "filename = 'windows.mysql.2018-08-30.log'\n",
    "*_, date, ext = filename.split('.')\n",
    "\n",
    "firstLine, *nouse, endLine = open('').read()\n"
   ]
  },
  {
   "cell_type": "code",
   "execution_count": 83,
   "metadata": {},
   "outputs": [],
   "source": [
    "# unpacking-2\n",
    "def MyFunc(name, age):\n",
    "    print(f'name:{name}, age:{age}')\n",
    "\n",
    "lst = ('Tom', 18)\n",
    "dct = {\n",
    "    'name': 'Tom',\n",
    "    'age': 18\n",
    "}\n",
    "\n",
    "# MyFunc(lst[0], lst[1]) \n",
    "# MyFunc(*lst)\n",
    "\n",
    "# MyFunc(dct['name'], dct['age'])\n",
    "# MyFunc(**dct)"
   ]
  },
  {
   "cell_type": "code",
   "execution_count": 159,
   "metadata": {},
   "outputs": [
    {
     "data": {
      "text/plain": [
       "{'age': 18, 'hobby': ['music', 'movie'], 'name': 'Tom', 'parent': 'unkown'}"
      ]
     },
     "execution_count": 159,
     "metadata": {},
     "output_type": "execute_result"
    }
   ],
   "source": [
    "# 丰富的内建函数\n",
    "import heapq\n",
    "from functools import reduce\n",
    "\n",
    "lst = list(range(1, 11))\n",
    "files = os.listdir(os.getcwd())\n",
    "words = ['name', 'age', 'parent', 'hobby']\n",
    "values = ['Tom', 18, 'unkown', ['music', 'movie']]\n",
    "\n",
    "\n",
    "# sum(x**2 for x in lst)  # 平方和\n",
    "\n",
    "# fac = lambda n: reduce(lambda x, y: x*y, range(1, n+1))  # 请n的阶乘函数\n",
    "\n",
    "# list(filter(lambda x: not x.endswith('.html'), files))  # 过滤掉html文件\n",
    "\n",
    "# any(name.endswith('.html') for name in files)  # 判断当前目录是否有html文件\n",
    "\n",
    "# sorted(words, key=len)  # 根据长度排序\n",
    "\n",
    "# heapq.nlargest(3, words, key=len)  # 获取最长的三个字符串\n",
    "\n",
    "# dict(zip(words, values))  # 组合字典\n",
    "\n",
    "# list(map(lambda x: x.zfill(6), words))  # 长度不够六位补0\n",
    "\n",
    "# words = ['name', 'age', 'parent', 'hobby', 'name', 'age']\n",
    "# set(words)  # 去重\n",
    "# sorted(set(words), key=words.index)  # 去重并保持原来列表顺序不变 \n",
    "\n",
    "# ......"
   ]
  },
  {
   "cell_type": "code",
   "execution_count": null,
   "metadata": {},
   "outputs": [],
   "source": [
    "# 装饰器 \n",
    "# 运行时间  \n",
    "from functools import lru_cache"
   ]
  },
  {
   "cell_type": "code",
   "execution_count": null,
   "metadata": {},
   "outputs": [],
   "source": []
  }
 ],
 "metadata": {
  "kernelspec": {
   "display_name": "Python 3",
   "language": "python",
   "name": "python3"
  },
  "language_info": {
   "codemirror_mode": {
    "name": "ipython",
    "version": 3
   },
   "file_extension": ".py",
   "mimetype": "text/x-python",
   "name": "python",
   "nbconvert_exporter": "python",
   "pygments_lexer": "ipython3",
   "version": "3.6.3"
  }
 },
 "nbformat": 4,
 "nbformat_minor": 2
}
