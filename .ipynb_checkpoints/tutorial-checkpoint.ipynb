{
 "cells": [
  {
   "cell_type": "markdown",
   "metadata": {},
   "source": [
    "### 人生苦短 我用Python  \n",
    "\n",
    "### Python3.6\n",
    "\n",
    "1. 数据类型  （字符串、数字、列表、字典、元组、集合）\n",
    "2. 控制结构 （if-else、while、for-else） \n",
    "3. 异常处理  (try-except-else)\n",
    "4. 高阶函数 （map、filter、reduce、zip）\n",
    "5. 列表推导式、字典推导式、集合推导式、生成器\n",
    "6. 函数、类\n",
    "7. 装饰器、生成器\n",
    "8. 常用模块 \n",
    "9. 常用第三方库  requests、pandas、selenium\n",
    "\n",
    "###### 基础 \n",
    "###### 特性、小技巧\n",
    "\n",
    "[菜鸟教程-Python3教程](http://www.runoob.com/python3/python3-tutorial.html)\n",
    "\n",
    "[廖雪峰Python3教程](https://www.liaoxuefeng.com/wiki/0014316089557264a6b348958f449949df42a6d3a2e542c000)\n",
    " \n",
    "[Python cookbook 第三版（Python3）](https://python3-cookbook.readthedocs.io/zh_CN/latest/)\n"
   ]
  },
  {
   "cell_type": "code",
   "execution_count": 5,
   "metadata": {},
   "outputs": [],
   "source": [
    "# Python3.6\n",
    "\n",
    "%matplotlib inline\n",
    "'''\n",
    "1、数据类型  （字符串、数字、列表、字典、元组、集合）\n",
    "2、控制结构 （if-else、while、for-else） \n",
    "3、异常处理  (try-except-else)\n",
    "4、高阶函数 （map、filter、reduce、zip）\n",
    "5、列表推导式、字典推导式、集合推导式、生成器\n",
    "6、函数、类\n",
    "7、装饰器、生成器\n",
    "8、常用模块 \n",
    "9、常用第三方库  requests、pandas、selenium\n",
    "'''\n",
    "\n",
    "'''\n",
    " 廖雪峰Python3教程\n",
    " https://www.liaoxuefeng.com/wiki/0014316089557264a6b348958f449949df42a6d3a2e542c000\n",
    " \n",
    " Python cookbook 第三版（Python3）\n",
    " https://python3-cookbook.readthedocs.io/zh_CN/latest/\n",
    "'''"
   ]
  },
  {
   "cell_type": "markdown",
   "metadata": {},
   "source": [
    "#### 1、数据类型  （字符串、数字、列表、字典、元组、集合）"
   ]
  },
  {
   "cell_type": "code",
   "execution_count": 61,
   "metadata": {},
   "outputs": [
    {
     "data": {
      "text/plain": [
       "0"
      ]
     },
     "execution_count": 61,
     "metadata": {},
     "output_type": "execute_result"
    }
   ],
   "source": [
    "name = 'xiaoliu'  \n",
    "# 字符串连接、倒序、替换、截取 各类型转换\n",
    "# fstring\n",
    "\n",
    "num_int = 10\n",
    "num_float = 10.9  \n",
    "\n",
    "\n",
    "lst = [1, 2, 3, 4]  \n",
    "# 列表跟数组区别， 可以存储任意类型，可以任意修改\n",
    "# 列表字符串切片， 解压缩\n",
    "# deque 双端队列  https://www.cnblogs.com/zhenwei66/p/6598996.html\n",
    "\n",
    "tup = (1, 2, 3, 5)\n",
    "# 元组\n",
    "\n",
    "dct = {'name': 'Alice', 'age': 20}  \n",
    "#  快速字典json转换 \n",
    "# {}.fromkeys(['a', 'b', 'c'], range(3))\n",
    "\n",
    "my_set = {10, 20, 3}  \n",
    "# 集合取并集、交集、子集、差集...\n",
    "\n",
    "p = (i for i in range(10))\n",
    "next(p)"
   ]
  },
  {
   "cell_type": "code",
   "execution_count": 62,
   "metadata": {},
   "outputs": [
    {
     "name": "stdout",
     "output_type": "stream",
     "text": [
      "1\n",
      "2\n",
      "3\n",
      "4\n",
      "5\n",
      "6\n",
      "7\n",
      "8\n",
      "9\n"
     ]
    }
   ],
   "source": []
  },
  {
   "cell_type": "code",
   "execution_count": 57,
   "metadata": {},
   "outputs": [],
   "source": [
    "# if 空 None  {}  [] ()  False \n",
    "# in   not in   \n",
    "# 对Python的理解\n",
    "# for-else\n",
    "# try-except-else\n",
    "# with open(x) as fp, open(y) as fp2 \n",
    "#（map、filter、reduce、zip）\n",
    "# 列表推导式、字典推导式、集合推导式、生成器(1)\n",
    "# 装饰器、生成器(2)\n",
    "# 好用的内建函数\n",
    "# 好用的第三方模块 pandas requests\n",
    "# 小🌰"
   ]
  },
  {
   "cell_type": "code",
   "execution_count": null,
   "metadata": {},
   "outputs": [],
   "source": [
    "'''\n",
    "爬虫 获取数据  存入mysql  excel csv json文件  读取mysql 展示\n",
    "读取Excel 获取接口  发请求 判断异常，获取json数据\n",
    "数据分析、姓氏分布、词频统计、每天发言数量\n",
    "'''\n",
    "\n"
   ]
  },
  {
   "cell_type": "code",
   "execution_count": 68,
   "metadata": {},
   "outputs": [],
   "source": [
    "import requests\n",
    "import pandas as pd\n",
    "\n",
    "url = 'https://www.feixiaohao.com/'\n",
    "response = requests.get(url)\n",
    "# df = pd.read_html(response.text)\n",
    "\n",
    "# df.to_sql()\n"
   ]
  },
  {
   "cell_type": "code",
   "execution_count": 80,
   "metadata": {},
   "outputs": [
    {
     "name": "stdout",
     "output_type": "stream",
     "text": [
      "# tutorial\r\n"
     ]
    }
   ],
   "source": [
    "!cat README.md | head  -n 1"
   ]
  },
  {
   "cell_type": "code",
   "execution_count": null,
   "metadata": {},
   "outputs": [],
   "source": [
    "# 不要畏惧英文 Google、stackoverflow、github\n",
    "# 学会看源码，读别人的项目代码\n",
    "# 学习是细水长流、每天进步一丢丢  早日成为Pythoner\n",
    "# Python aweseomePython Python为啥这么强大 介绍下"
   ]
  },
  {
   "cell_type": "code",
   "execution_count": null,
   "metadata": {},
   "outputs": [],
   "source": [
    "# max、min妙用\n",
    "lst = ['abc', 'za', 'xyzd']\n",
    "# 获取lst中最长字符串\n",
    "max(lst, key=len)\n",
    "\n",
    "reduce(lambda x,y: x^y, [1,2,3,4,1,2,3])\n",
    "\n",
    "# 三元表达式\n",
    "x = x if x > 0 else 0\n",
    "\n",
    "# 利用max()函数\n",
    "x = max(x, 0)\n",
    "\n",
    "# 应用小例子\n",
    "if x > 100:\n",
    "  x = 100\n",
    "if x < 0:\n",
    "  x = 0\n",
    "# 转换成min()、max()函数\n",
    "max(min(x, 100), 0)\n",
    "\n",
    "数学很重要\n",
    "正则很强大，学会性价比很高\n"
   ]
  }
 ],
 "metadata": {
  "kernelspec": {
   "display_name": "Python 3",
   "language": "python",
   "name": "python3"
  },
  "language_info": {
   "codemirror_mode": {
    "name": "ipython",
    "version": 3
   },
   "file_extension": ".py",
   "mimetype": "text/x-python",
   "name": "python",
   "nbconvert_exporter": "python",
   "pygments_lexer": "ipython3",
   "version": "3.6.3"
  }
 },
 "nbformat": 4,
 "nbformat_minor": 2
}
